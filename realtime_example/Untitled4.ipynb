{
 "cells": [
  {
   "cell_type": "code",
   "execution_count": 1,
   "metadata": {},
   "outputs": [
    {
     "name": "stdout",
     "output_type": "stream",
     "text": [
      "提示：当前环境 pandas 版本高于 0.25，get_price 与 get_fundamentals_continuously 接口 panel 参数将固定为 False\n",
      "注意：0.25 以上版本 pandas 不支持 panel，如使用该数据结构和相关函数请注意修改\n"
     ]
    }
   ],
   "source": [
    "import QUANTAXIS as qa\n",
    "from QIFIAccount import QIFI_Account,QA_Position\n",
    "from QIFIAccount.QASimAccount import QIFI_SIM_Account\n",
    "import pandas as pd"
   ]
  },
  {
   "cell_type": "code",
   "execution_count": 2,
   "metadata": {},
   "outputs": [
    {
     "name": "stdout",
     "output_type": "stream",
     "text": [
      "settle\n"
     ]
    }
   ],
   "source": [
    "username='myacc24'\n",
    "my=QIFI_SIM_Account(username=username,password=username)\n",
    "my.reload()"
   ]
  },
  {
   "cell_type": "code",
   "execution_count": 38,
   "metadata": {},
   "outputs": [
    {
     "name": "stdout",
     "output_type": "stream",
     "text": [
      "{'volume_long': 72000, 'volume_short': 0, 'volume_long_frozen': 0, 'volume_short_frozen': 0}\n",
      "{'volume_long': 72000, 'volume_short': 0}\n",
      "order check success\n",
      "下单成功 3a0480b7-0105-499c-88e4-d4d82d209697\n",
      "全部成交 3a0480b7-0105-499c-88e4-d4d82d209697\n",
      "update trade\n"
     ]
    }
   ],
   "source": [
    "order = my.send_order('002027', 1000, 5.08, qa.ORDER_DIRECTION.BUY, datetime='2021-03-31 10:33:00')\n",
    "my.make_deal(order)"
   ]
  },
  {
   "cell_type": "code",
   "execution_count": 39,
   "metadata": {},
   "outputs": [
    {
     "data": {
      "text/plain": [
       "279160.0"
      ]
     },
     "execution_count": 39,
     "metadata": {},
     "output_type": "execute_result"
    }
   ],
   "source": [
    "my.available"
   ]
  },
  {
   "cell_type": "code",
   "execution_count": 40,
   "metadata": {},
   "outputs": [
    {
     "data": {
      "text/plain": [
       "0"
      ]
     },
     "execution_count": 40,
     "metadata": {},
     "output_type": "execute_result"
    }
   ],
   "source": [
    "my.withdrawQuota"
   ]
  },
  {
   "cell_type": "code",
   "execution_count": 41,
   "metadata": {},
   "outputs": [
    {
     "data": {
      "text/plain": [
       "{'user_id': 'myacc24',\n",
       " 'currency': 'CNY',\n",
       " 'pre_balance': 1419040.0,\n",
       " 'deposit': 0,\n",
       " 'withdraw': 0,\n",
       " 'WithdrawQuota': 0,\n",
       " 'close_profit': 0,\n",
       " 'commission': 0,\n",
       " 'premium': 0,\n",
       " 'static_balance': 1419040.0,\n",
       " 'position_profit': -350000.0,\n",
       " 'float_profit': -350000.0,\n",
       " 'balance': 1069040.0,\n",
       " 'margin': 720840.0,\n",
       " 'frozen_margin': 0,\n",
       " 'frozen_commission': 0.0,\n",
       " 'frozen_premium': 0.0,\n",
       " 'available': 279160.0,\n",
       " 'risk_ratio': 0.7388685175484546}"
      ]
     },
     "execution_count": 41,
     "metadata": {},
     "output_type": "execute_result"
    }
   ],
   "source": [
    "my.account_msg"
   ]
  },
  {
   "cell_type": "code",
   "execution_count": 42,
   "metadata": {},
   "outputs": [
    {
     "name": "stdout",
     "output_type": "stream",
     "text": [
      "settle\n"
     ]
    }
   ],
   "source": [
    "my.settle()"
   ]
  },
  {
   "cell_type": "code",
   "execution_count": 34,
   "metadata": {},
   "outputs": [],
   "source": [
    "my.on_price_change('002027',13,datetime='2021-03-30')"
   ]
  },
  {
   "cell_type": "code",
   "execution_count": 35,
   "metadata": {},
   "outputs": [
    {
     "data": {
      "text/plain": [
       "1198800.0"
      ]
     },
     "execution_count": 35,
     "metadata": {},
     "output_type": "execute_result"
    }
   ],
   "source": [
    "my.pre_balance"
   ]
  },
  {
   "cell_type": "code",
   "execution_count": 36,
   "metadata": {},
   "outputs": [
    {
     "data": {
      "text/plain": [
       "1419040.0"
      ]
     },
     "execution_count": 36,
     "metadata": {},
     "output_type": "execute_result"
    }
   ],
   "source": [
    "my.balance"
   ]
  },
  {
   "cell_type": "code",
   "execution_count": 13,
   "metadata": {},
   "outputs": [
    {
     "data": {
      "text/plain": [
       "344400.0"
      ]
     },
     "execution_count": 13,
     "metadata": {},
     "output_type": "execute_result"
    }
   ],
   "source": [
    "my.float_profit"
   ]
  },
  {
   "cell_type": "code",
   "execution_count": 26,
   "metadata": {},
   "outputs": [
    {
     "data": {
      "text/plain": [
       "{'stock_cn.002027': {'code': '002027',\n",
       "  'instrument_id': '002027',\n",
       "  'user_id': 'quantaxis',\n",
       "  'portfolio_cookie': 'portfolio',\n",
       "  'username': 'quantaxis',\n",
       "  'position_id': 'e5e83edd-030a-41ed-aa7e-aeb75006ba03',\n",
       "  'account_cookie': 'quantaxis',\n",
       "  'frozen': {},\n",
       "  'name': None,\n",
       "  'spms_id': None,\n",
       "  'oms_id': None,\n",
       "  'market_type': 'stock_cn',\n",
       "  'exchange_id': 'stock_cn',\n",
       "  'moneypreset': 100000,\n",
       "  'moneypresetLeft': -605600.0,\n",
       "  'lastupdatetime': '',\n",
       "  'volume_long_today': 0,\n",
       "  'volume_long_his': 70000,\n",
       "  'volume_long': 70000,\n",
       "  'volume_long_yd': 0,\n",
       "  'volume_short_yd': 0,\n",
       "  'volume_short_today': 0,\n",
       "  'volume_short_his': 0,\n",
       "  'volume_short': 0,\n",
       "  'pos_long_his': 70000,\n",
       "  'pos_long_today': 0,\n",
       "  'pos_short_his': 0,\n",
       "  'pos_short_today': 0,\n",
       "  'volume_long_frozen_today': 0,\n",
       "  'volume_long_frozen_his': 0,\n",
       "  'volume_long_frozen': 0,\n",
       "  'volume_short_frozen_today': 0,\n",
       "  'volume_short_frozen_his': 0,\n",
       "  'volume_short_frozen': 0,\n",
       "  'margin_long': 705600.0,\n",
       "  'margin_short': 0,\n",
       "  'margin': 705600.0,\n",
       "  'position_price_long': 10.08,\n",
       "  'position_cost_long': 705600.0,\n",
       "  'position_price_short': 0,\n",
       "  'position_cost_short': 0.0,\n",
       "  'open_price_long': 10.08,\n",
       "  'open_cost_long': 705600.0,\n",
       "  'open_price_short': 0,\n",
       "  'open_cost_short': 0.0,\n",
       "  'trades': [],\n",
       "  'orders': {},\n",
       "  'last_price': 13,\n",
       "  'float_profit_long': 204400.0,\n",
       "  'float_profit_short': 0.0,\n",
       "  'float_profit': 204400.0,\n",
       "  'position_profit_long': 204400.0,\n",
       "  'position_profit_short': 0.0,\n",
       "  'position_profit': 204400.0}}"
      ]
     },
     "execution_count": 26,
     "metadata": {},
     "output_type": "execute_result"
    }
   ],
   "source": [
    "my.position_msg"
   ]
  },
  {
   "cell_type": "code",
   "execution_count": 21,
   "metadata": {},
   "outputs": [
    {
     "data": {
      "text/html": [
       "<div>\n",
       "<style scoped>\n",
       "    .dataframe tbody tr th:only-of-type {\n",
       "        vertical-align: middle;\n",
       "    }\n",
       "\n",
       "    .dataframe tbody tr th {\n",
       "        vertical-align: top;\n",
       "    }\n",
       "\n",
       "    .dataframe thead th {\n",
       "        text-align: right;\n",
       "    }\n",
       "</style>\n",
       "<table border=\"1\" class=\"dataframe\">\n",
       "  <thead>\n",
       "    <tr style=\"text-align: right;\">\n",
       "      <th></th>\n",
       "      <th>code</th>\n",
       "      <th>name</th>\n",
       "      <th>exchange_id</th>\n",
       "      <th>volume_long_his</th>\n",
       "      <th>pos_long_his</th>\n",
       "      <th>open_price_long</th>\n",
       "      <th>last_price</th>\n",
       "      <th>position_profit</th>\n",
       "      <th>position_cost_long</th>\n",
       "      <th>balance</th>\n",
       "    </tr>\n",
       "  </thead>\n",
       "  <tbody>\n",
       "    <tr>\n",
       "      <th>stock_cn.002027</th>\n",
       "      <td>002027</td>\n",
       "      <td>None</td>\n",
       "      <td>stock_cn</td>\n",
       "      <td>70000</td>\n",
       "      <td>70000</td>\n",
       "      <td>10.08</td>\n",
       "      <td>15</td>\n",
       "      <td>344400</td>\n",
       "      <td>705600</td>\n",
       "      <td>1050000</td>\n",
       "    </tr>\n",
       "  </tbody>\n",
       "</table>\n",
       "</div>"
      ],
      "text/plain": [
       "                   code  name exchange_id volume_long_his pos_long_his  \\\n",
       "stock_cn.002027  002027  None    stock_cn           70000        70000   \n",
       "\n",
       "                open_price_long last_price position_profit position_cost_long  \\\n",
       "stock_cn.002027           10.08         15          344400             705600   \n",
       "\n",
       "                 balance  \n",
       "stock_cn.002027  1050000  "
      ]
     },
     "execution_count": 21,
     "metadata": {},
     "output_type": "execute_result"
    }
   ],
   "source": [
    "df=pd.DataFrame(my.position_msg).T\n",
    "df1=df[['code','name','exchange_id','volume_long_his','pos_long_his','open_price_long','last_price','position_profit','position_cost_long']].assign(balance=df['last_price']*df['pos_long_his'])\n",
    "df1"
   ]
  },
  {
   "cell_type": "code",
   "execution_count": 23,
   "metadata": {},
   "outputs": [
    {
     "data": {
      "text/plain": [
       "1344400.0"
      ]
     },
     "execution_count": 23,
     "metadata": {},
     "output_type": "execute_result"
    }
   ],
   "source": [
    "my.available+df1['balance'].sum()"
   ]
  },
  {
   "cell_type": "code",
   "execution_count": null,
   "metadata": {},
   "outputs": [],
   "source": []
  },
  {
   "cell_type": "code",
   "execution_count": null,
   "metadata": {},
   "outputs": [],
   "source": []
  }
 ],
 "metadata": {
  "kernelspec": {
   "display_name": "Python 3",
   "language": "python",
   "name": "python3"
  },
  "language_info": {
   "codemirror_mode": {
    "name": "ipython",
    "version": 3
   },
   "file_extension": ".py",
   "mimetype": "text/x-python",
   "name": "python",
   "nbconvert_exporter": "python",
   "pygments_lexer": "ipython3",
   "version": "3.6.5"
  }
 },
 "nbformat": 4,
 "nbformat_minor": 4
}
