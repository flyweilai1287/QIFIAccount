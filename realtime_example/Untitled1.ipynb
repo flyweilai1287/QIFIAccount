{
 "cells": [
  {
   "cell_type": "code",
   "execution_count": 1,
   "metadata": {},
   "outputs": [
    {
     "name": "stdout",
     "output_type": "stream",
     "text": [
      "提示：当前环境 pandas 版本高于 0.25，get_price 与 get_fundamentals_continuously 接口 panel 参数将固定为 False\n",
      "注意：0.25 以上版本 pandas 不支持 panel，如使用该数据结构和相关函数请注意修改\n"
     ]
    }
   ],
   "source": [
    "import QUANTAXIS as qa\n",
    "from QIFIAccount import QIFI_Account,QA_Position\n",
    "from QIFIAccount.QASimAccount import QIFI_SIM_Account\n",
    "import pandas as pd"
   ]
  },
  {
   "cell_type": "code",
   "execution_count": 2,
   "metadata": {},
   "outputs": [],
   "source": [
    "my=QIFI_SIM_Account(username='myacc3',password='myacc3')\n",
    "my.initial()"
   ]
  },
  {
   "cell_type": "code",
   "execution_count": 3,
   "metadata": {},
   "outputs": [],
   "source": [
    "code='002027'\n",
    "name='分众传媒'\n",
    "pos=QA_Position(\n",
    "        code=code,\n",
    "        account_cookie='myacc3',\n",
    "        market_type=qa.MARKET_TYPE.STOCK_CN,\n",
    "        exchange_id=qa.EXCHANGE_ID.SZSE if code in (0,3) else qa.EXCHANGE_ID.SSE,\n",
    "        volume_long_his=20000,\n",
    "        volume_long_today=0,\n",
    "        open_price_long=9,\n",
    "        name=name\n",
    "    )"
   ]
  },
  {
   "cell_type": "code",
   "execution_count": 9,
   "metadata": {},
   "outputs": [
    {
     "name": "stderr",
     "output_type": "stream",
     "text": [
      "QUANTAXIS>> Selecting the Best Server IP of TDX\n"
     ]
    },
    {
     "name": "stdout",
     "output_type": "stream",
     "text": [
      "USING DEFAULT STOCK IP\n",
      "USING DEFAULT FUTURE IP\n"
     ]
    },
    {
     "name": "stderr",
     "output_type": "stream",
     "text": [
      "QUANTAXIS>> === The BEST SERVER ===\n",
      " stock_ip 123.125.108.23 future_ip 106.14.95.149\n"
     ]
    }
   ],
   "source": [
    "quote=qa.QA_fetch_get_stock_day('tdx','002027','2021-01-01','2021-06-05')"
   ]
  },
  {
   "cell_type": "code",
   "execution_count": 47,
   "metadata": {},
   "outputs": [
    {
     "data": {
      "text/plain": [
       "10.4"
      ]
     },
     "execution_count": 47,
     "metadata": {},
     "output_type": "execute_result"
    }
   ],
   "source": [
    "quote.loc['2021-01-06']['close']"
   ]
  },
  {
   "cell_type": "code",
   "execution_count": null,
   "metadata": {},
   "outputs": [],
   "source": []
  },
  {
   "cell_type": "code",
   "execution_count": 21,
   "metadata": {},
   "outputs": [],
   "source": [
    "code='00700'\n",
    "name='腾讯股份'\n",
    "pos=QA_Position(\n",
    "        code=code,\n",
    "        account_cookie='myacc3',\n",
    "        market_type=qa.MARKET_TYPE.STOCK_HK,\n",
    "        exchange_id='hk',\n",
    "        volume_long_his=2000,\n",
    "        volume_long_today=0,\n",
    "        open_price_long=9,\n",
    "        name=name\n",
    "    )"
   ]
  },
  {
   "cell_type": "code",
   "execution_count": 22,
   "metadata": {},
   "outputs": [
    {
     "data": {
      "text/plain": [
       "0"
      ]
     },
     "execution_count": 22,
     "metadata": {},
     "output_type": "execute_result"
    }
   ],
   "source": [
    "my.add_position(pos)"
   ]
  },
  {
   "cell_type": "code",
   "execution_count": 20,
   "metadata": {},
   "outputs": [],
   "source": [
    "hk_q=qa.QA_fetch_get_hkstock_day('tdx','00700','2021-01-01','2021-06-05')"
   ]
  },
  {
   "cell_type": "code",
   "execution_count": 48,
   "metadata": {},
   "outputs": [
    {
     "data": {
      "text/html": [
       "<div>\n",
       "<style scoped>\n",
       "    .dataframe tbody tr th:only-of-type {\n",
       "        vertical-align: middle;\n",
       "    }\n",
       "\n",
       "    .dataframe tbody tr th {\n",
       "        vertical-align: top;\n",
       "    }\n",
       "\n",
       "    .dataframe thead th {\n",
       "        text-align: right;\n",
       "    }\n",
       "</style>\n",
       "<table border=\"1\" class=\"dataframe\">\n",
       "  <thead>\n",
       "    <tr style=\"text-align: right;\">\n",
       "      <th></th>\n",
       "      <th>open</th>\n",
       "      <th>high</th>\n",
       "      <th>low</th>\n",
       "      <th>close</th>\n",
       "      <th>position</th>\n",
       "      <th>trade</th>\n",
       "      <th>price</th>\n",
       "      <th>amount</th>\n",
       "      <th>date</th>\n",
       "      <th>code</th>\n",
       "      <th>date_stamp</th>\n",
       "    </tr>\n",
       "    <tr>\n",
       "      <th>date</th>\n",
       "      <th></th>\n",
       "      <th></th>\n",
       "      <th></th>\n",
       "      <th></th>\n",
       "      <th></th>\n",
       "      <th></th>\n",
       "      <th></th>\n",
       "      <th></th>\n",
       "      <th></th>\n",
       "      <th></th>\n",
       "      <th></th>\n",
       "    </tr>\n",
       "  </thead>\n",
       "  <tbody>\n",
       "    <tr>\n",
       "      <th>2021-01-04</th>\n",
       "      <td>558.0</td>\n",
       "      <td>583.0</td>\n",
       "      <td>557.5</td>\n",
       "      <td>572.5</td>\n",
       "      <td>1345476830</td>\n",
       "      <td>2078</td>\n",
       "      <td>2341700.0</td>\n",
       "      <td>1.196867e+10</td>\n",
       "      <td>2021-01-04</td>\n",
       "      <td>00700</td>\n",
       "      <td>1.609690e+09</td>\n",
       "    </tr>\n",
       "    <tr>\n",
       "      <th>2021-01-05</th>\n",
       "      <td>572.0</td>\n",
       "      <td>586.5</td>\n",
       "      <td>565.5</td>\n",
       "      <td>583.5</td>\n",
       "      <td>1344351655</td>\n",
       "      <td>1866</td>\n",
       "      <td>2308500.0</td>\n",
       "      <td>1.081649e+10</td>\n",
       "      <td>2021-01-05</td>\n",
       "      <td>00700</td>\n",
       "      <td>1.609776e+09</td>\n",
       "    </tr>\n",
       "    <tr>\n",
       "      <th>2021-01-06</th>\n",
       "      <td>585.0</td>\n",
       "      <td>599.0</td>\n",
       "      <td>585.0</td>\n",
       "      <td>596.5</td>\n",
       "      <td>1348718909</td>\n",
       "      <td>2571</td>\n",
       "      <td>3005600.0</td>\n",
       "      <td>1.528856e+10</td>\n",
       "      <td>2021-01-06</td>\n",
       "      <td>00700</td>\n",
       "      <td>1.609862e+09</td>\n",
       "    </tr>\n",
       "    <tr>\n",
       "      <th>2021-01-07</th>\n",
       "      <td>580.5</td>\n",
       "      <td>584.5</td>\n",
       "      <td>568.5</td>\n",
       "      <td>568.5</td>\n",
       "      <td>1353363444</td>\n",
       "      <td>3987</td>\n",
       "      <td>4835500.0</td>\n",
       "      <td>2.290926e+10</td>\n",
       "      <td>2021-01-07</td>\n",
       "      <td>00700</td>\n",
       "      <td>1.609949e+09</td>\n",
       "    </tr>\n",
       "    <tr>\n",
       "      <th>2021-01-08</th>\n",
       "      <td>568.5</td>\n",
       "      <td>578.0</td>\n",
       "      <td>567.5</td>\n",
       "      <td>573.0</td>\n",
       "      <td>1346595710</td>\n",
       "      <td>2286</td>\n",
       "      <td>2527300.0</td>\n",
       "      <td>1.311441e+10</td>\n",
       "      <td>2021-01-08</td>\n",
       "      <td>00700</td>\n",
       "      <td>1.610035e+09</td>\n",
       "    </tr>\n",
       "    <tr>\n",
       "      <th>...</th>\n",
       "      <td>...</td>\n",
       "      <td>...</td>\n",
       "      <td>...</td>\n",
       "      <td>...</td>\n",
       "      <td>...</td>\n",
       "      <td>...</td>\n",
       "      <td>...</td>\n",
       "      <td>...</td>\n",
       "      <td>...</td>\n",
       "      <td>...</td>\n",
       "      <td>...</td>\n",
       "    </tr>\n",
       "    <tr>\n",
       "      <th>2021-05-28</th>\n",
       "      <td>608.0</td>\n",
       "      <td>612.0</td>\n",
       "      <td>601.0</td>\n",
       "      <td>601.5</td>\n",
       "      <td>1342766774</td>\n",
       "      <td>1518</td>\n",
       "      <td>1733400.0</td>\n",
       "      <td>9.193576e+09</td>\n",
       "      <td>2021-05-28</td>\n",
       "      <td>00700</td>\n",
       "      <td>1.622131e+09</td>\n",
       "    </tr>\n",
       "    <tr>\n",
       "      <th>2021-06-01</th>\n",
       "      <td>619.0</td>\n",
       "      <td>632.0</td>\n",
       "      <td>617.0</td>\n",
       "      <td>628.0</td>\n",
       "      <td>1344830528</td>\n",
       "      <td>1804</td>\n",
       "      <td>2217300.0</td>\n",
       "      <td>1.130686e+10</td>\n",
       "      <td>2021-06-01</td>\n",
       "      <td>00700</td>\n",
       "      <td>1.622477e+09</td>\n",
       "    </tr>\n",
       "    <tr>\n",
       "      <th>2021-06-02</th>\n",
       "      <td>634.0</td>\n",
       "      <td>640.0</td>\n",
       "      <td>625.5</td>\n",
       "      <td>628.5</td>\n",
       "      <td>1343864916</td>\n",
       "      <td>1633</td>\n",
       "      <td>2470100.0</td>\n",
       "      <td>1.031807e+10</td>\n",
       "      <td>2021-06-02</td>\n",
       "      <td>00700</td>\n",
       "      <td>1.622563e+09</td>\n",
       "    </tr>\n",
       "    <tr>\n",
       "      <th>2021-06-03</th>\n",
       "      <td>628.5</td>\n",
       "      <td>629.5</td>\n",
       "      <td>612.0</td>\n",
       "      <td>615.5</td>\n",
       "      <td>1340306754</td>\n",
       "      <td>1231</td>\n",
       "      <td>1983900.0</td>\n",
       "      <td>7.632225e+09</td>\n",
       "      <td>2021-06-03</td>\n",
       "      <td>00700</td>\n",
       "      <td>1.622650e+09</td>\n",
       "    </tr>\n",
       "    <tr>\n",
       "      <th>2021-06-04</th>\n",
       "      <td>610.0</td>\n",
       "      <td>614.5</td>\n",
       "      <td>606.0</td>\n",
       "      <td>611.5</td>\n",
       "      <td>1345063368</td>\n",
       "      <td>1894</td>\n",
       "      <td>1526000.0</td>\n",
       "      <td>1.154529e+10</td>\n",
       "      <td>2021-06-04</td>\n",
       "      <td>00700</td>\n",
       "      <td>1.622736e+09</td>\n",
       "    </tr>\n",
       "  </tbody>\n",
       "</table>\n",
       "<p>103 rows × 11 columns</p>\n",
       "</div>"
      ],
      "text/plain": [
       "             open   high    low  close    position  trade      price  \\\n",
       "date                                                                   \n",
       "2021-01-04  558.0  583.0  557.5  572.5  1345476830   2078  2341700.0   \n",
       "2021-01-05  572.0  586.5  565.5  583.5  1344351655   1866  2308500.0   \n",
       "2021-01-06  585.0  599.0  585.0  596.5  1348718909   2571  3005600.0   \n",
       "2021-01-07  580.5  584.5  568.5  568.5  1353363444   3987  4835500.0   \n",
       "2021-01-08  568.5  578.0  567.5  573.0  1346595710   2286  2527300.0   \n",
       "...           ...    ...    ...    ...         ...    ...        ...   \n",
       "2021-05-28  608.0  612.0  601.0  601.5  1342766774   1518  1733400.0   \n",
       "2021-06-01  619.0  632.0  617.0  628.0  1344830528   1804  2217300.0   \n",
       "2021-06-02  634.0  640.0  625.5  628.5  1343864916   1633  2470100.0   \n",
       "2021-06-03  628.5  629.5  612.0  615.5  1340306754   1231  1983900.0   \n",
       "2021-06-04  610.0  614.5  606.0  611.5  1345063368   1894  1526000.0   \n",
       "\n",
       "                  amount        date   code    date_stamp  \n",
       "date                                                       \n",
       "2021-01-04  1.196867e+10  2021-01-04  00700  1.609690e+09  \n",
       "2021-01-05  1.081649e+10  2021-01-05  00700  1.609776e+09  \n",
       "2021-01-06  1.528856e+10  2021-01-06  00700  1.609862e+09  \n",
       "2021-01-07  2.290926e+10  2021-01-07  00700  1.609949e+09  \n",
       "2021-01-08  1.311441e+10  2021-01-08  00700  1.610035e+09  \n",
       "...                  ...         ...    ...           ...  \n",
       "2021-05-28  9.193576e+09  2021-05-28  00700  1.622131e+09  \n",
       "2021-06-01  1.130686e+10  2021-06-01  00700  1.622477e+09  \n",
       "2021-06-02  1.031807e+10  2021-06-02  00700  1.622563e+09  \n",
       "2021-06-03  7.632225e+09  2021-06-03  00700  1.622650e+09  \n",
       "2021-06-04  1.154529e+10  2021-06-04  00700  1.622736e+09  \n",
       "\n",
       "[103 rows x 11 columns]"
      ]
     },
     "execution_count": 48,
     "metadata": {},
     "output_type": "execute_result"
    }
   ],
   "source": [
    "hk_q"
   ]
  },
  {
   "cell_type": "code",
   "execution_count": 15,
   "metadata": {},
   "outputs": [
    {
     "name": "stdout",
     "output_type": "stream",
     "text": [
      "settle\n",
      "settle\n",
      "settle\n",
      "settle\n",
      "settle\n",
      "settle\n",
      "settle\n",
      "settle\n",
      "settle\n",
      "settle\n",
      "settle\n",
      "settle\n",
      "settle\n",
      "settle\n",
      "settle\n",
      "settle\n",
      "settle\n",
      "settle\n",
      "settle\n",
      "settle\n",
      "settle\n",
      "settle\n",
      "settle\n",
      "settle\n",
      "settle\n",
      "settle\n",
      "settle\n",
      "settle\n",
      "settle\n",
      "settle\n",
      "settle\n",
      "settle\n",
      "settle\n",
      "settle\n",
      "settle\n",
      "settle\n",
      "settle\n",
      "settle\n",
      "settle\n",
      "settle\n",
      "settle\n",
      "settle\n",
      "settle\n",
      "settle\n",
      "settle\n",
      "settle\n",
      "settle\n",
      "settle\n",
      "settle\n",
      "settle\n",
      "settle\n",
      "settle\n",
      "settle\n",
      "settle\n",
      "settle\n",
      "settle\n",
      "settle\n",
      "settle\n",
      "settle\n",
      "settle\n",
      "settle\n",
      "settle\n",
      "settle\n",
      "settle\n",
      "settle\n",
      "settle\n",
      "settle\n",
      "settle\n",
      "settle\n",
      "settle\n",
      "settle\n",
      "settle\n",
      "settle\n",
      "settle\n",
      "settle\n",
      "settle\n",
      "settle\n",
      "settle\n",
      "settle\n",
      "settle\n",
      "settle\n",
      "settle\n",
      "settle\n",
      "settle\n",
      "settle\n",
      "settle\n",
      "settle\n",
      "settle\n",
      "settle\n",
      "settle\n",
      "settle\n",
      "settle\n",
      "settle\n",
      "settle\n",
      "settle\n",
      "settle\n",
      "settle\n",
      "settle\n",
      "settle\n",
      "settle\n",
      "settle\n"
     ]
    },
    {
     "data": {
      "text/plain": [
       "date\n",
       "2021-01-04    None\n",
       "2021-01-05    None\n",
       "2021-01-06    None\n",
       "2021-01-07    None\n",
       "2021-01-08    None\n",
       "              ... \n",
       "2021-05-31    None\n",
       "2021-06-01    None\n",
       "2021-06-02    None\n",
       "2021-06-03    None\n",
       "2021-06-04    None\n",
       "Length: 101, dtype: object"
      ]
     },
     "execution_count": 15,
     "metadata": {},
     "output_type": "execute_result"
    }
   ],
   "source": [
    "def sett(x):\n",
    "    my.on_price_change('002027',x.close,datetime=x.date)\n",
    "    my.settle()\n",
    "#     print(x.date,)\n",
    "quote.apply(lambda x:sett(x),axis=1)"
   ]
  },
  {
   "cell_type": "code",
   "execution_count": 4,
   "metadata": {},
   "outputs": [
    {
     "data": {
      "text/plain": [
       "0"
      ]
     },
     "execution_count": 4,
     "metadata": {},
     "output_type": "execute_result"
    }
   ],
   "source": [
    "my.add_position(pos)"
   ]
  },
  {
   "cell_type": "code",
   "execution_count": 5,
   "metadata": {},
   "outputs": [
    {
     "data": {
      "text/plain": [
       "{'stock_cn.002027': {'code': '002027',\n",
       "  'instrument_id': '002027',\n",
       "  'user_id': 'myacc3',\n",
       "  'portfolio_cookie': 'portfolio',\n",
       "  'username': 'quantaxis',\n",
       "  'position_id': 'd1fcb4cf-4ff6-4bf6-9d5e-af4e89d5d9dd',\n",
       "  'account_cookie': 'myacc3',\n",
       "  'frozen': {},\n",
       "  'name': '分众传媒',\n",
       "  'spms_id': None,\n",
       "  'oms_id': None,\n",
       "  'market_type': 'stock_cn',\n",
       "  'exchange_id': 'sse',\n",
       "  'moneypreset': 100000,\n",
       "  'moneypresetLeft': 100000,\n",
       "  'lastupdatetime': '',\n",
       "  'volume_long_today': 0,\n",
       "  'volume_long_his': 20000,\n",
       "  'volume_long': 20000,\n",
       "  'volume_long_yd': 0,\n",
       "  'volume_short_yd': 0,\n",
       "  'volume_short_today': 0,\n",
       "  'volume_short_his': 0,\n",
       "  'volume_short': 0,\n",
       "  'pos_long_his': 20000,\n",
       "  'pos_long_today': 0,\n",
       "  'pos_short_his': 0,\n",
       "  'pos_short_today': 0,\n",
       "  'volume_long_frozen_today': 0,\n",
       "  'volume_long_frozen_his': 0,\n",
       "  'volume_long_frozen': 0,\n",
       "  'volume_short_frozen_today': 0,\n",
       "  'volume_short_frozen_his': 0,\n",
       "  'volume_short_frozen': 0,\n",
       "  'margin_long': 0,\n",
       "  'margin_short': 0,\n",
       "  'margin': 0,\n",
       "  'position_price_long': 9,\n",
       "  'position_cost_long': 180000.0,\n",
       "  'position_price_short': 0,\n",
       "  'position_cost_short': 0.0,\n",
       "  'open_price_long': 9,\n",
       "  'open_cost_long': 180000.0,\n",
       "  'open_price_short': 0,\n",
       "  'open_cost_short': 0.0,\n",
       "  'trades': [],\n",
       "  'orders': {},\n",
       "  'last_price': 0,\n",
       "  'float_profit_long': -180000.0,\n",
       "  'float_profit_short': 0.0,\n",
       "  'float_profit': -180000.0,\n",
       "  'position_profit_long': -180000.0,\n",
       "  'position_profit_short': 0.0,\n",
       "  'position_profit': -180000.0}}"
      ]
     },
     "execution_count": 5,
     "metadata": {},
     "output_type": "execute_result"
    }
   ],
   "source": [
    "my.position_msg"
   ]
  },
  {
   "cell_type": "code",
   "execution_count": 6,
   "metadata": {},
   "outputs": [],
   "source": [
    "my.on_price_change('002027',11,datetime='2021-01-27 10:33:00')"
   ]
  },
  {
   "cell_type": "code",
   "execution_count": 23,
   "metadata": {},
   "outputs": [
    {
     "name": "stdout",
     "output_type": "stream",
     "text": [
      "{'volume_long': 20000, 'volume_short': 0, 'volume_long_frozen': 0, 'volume_short_frozen': 0}\n",
      "{'volume_long': 20000, 'volume_short': 0}\n",
      "order check success\n",
      "下单成功 fcd81b87-103a-43ca-8399-f2f56040d04d\n",
      "全部成交 fcd81b87-103a-43ca-8399-f2f56040d04d\n",
      "update trade\n"
     ]
    }
   ],
   "source": [
    "order = my.send_order('002027', 500, 12.08, qa.ORDER_DIRECTION.BUY, datetime='2021-01-27 10:33:00')\n",
    "my.make_deal(order)"
   ]
  },
  {
   "cell_type": "code",
   "execution_count": 24,
   "metadata": {},
   "outputs": [
    {
     "name": "stdout",
     "output_type": "stream",
     "text": [
      "{'volume_long': 2000, 'volume_short': 0, 'volume_long_frozen': 0, 'volume_short_frozen': 0}\n",
      "{'volume_long': 2000, 'volume_short': 0}\n",
      "order check success\n",
      "下单成功 6a6e258d-98e3-48a7-bda3-c75422393233\n",
      "全部成交 6a6e258d-98e3-48a7-bda3-c75422393233\n",
      "update trade\n"
     ]
    }
   ],
   "source": [
    "order = my.send_order('00700', 500, 600, qa.ORDER_DIRECTION.BUY, datetime='2021-01-27 10:33:00')\n",
    "my.make_deal(order)"
   ]
  },
  {
   "cell_type": "code",
   "execution_count": 25,
   "metadata": {},
   "outputs": [
    {
     "data": {
      "text/plain": [
       "2243600.0"
      ]
     },
     "execution_count": 25,
     "metadata": {},
     "output_type": "execute_result"
    }
   ],
   "source": [
    "my.balance"
   ]
  },
  {
   "cell_type": "code",
   "execution_count": 8,
   "metadata": {},
   "outputs": [
    {
     "name": "stdout",
     "output_type": "stream",
     "text": [
      "settle\n"
     ]
    }
   ],
   "source": [
    "my.settle()"
   ]
  },
  {
   "cell_type": "code",
   "execution_count": 16,
   "metadata": {},
   "outputs": [
    {
     "data": {
      "text/plain": [
       "'QAPaperTrade'"
      ]
     },
     "execution_count": 16,
     "metadata": {},
     "output_type": "execute_result"
    }
   ],
   "source": [
    "my.portfolio"
   ]
  },
  {
   "cell_type": "code",
   "execution_count": 50,
   "metadata": {},
   "outputs": [
    {
     "name": "stdout",
     "output_type": "stream",
     "text": [
      "2021-01-01 00:00:00 False\n",
      "当日无交易数据，不进行交易\n",
      "HK当日无交易数据，不进行交易\n",
      "settle\n",
      "2021-01-02 00:00:00 False\n",
      "当日无交易数据，不进行交易\n",
      "HK当日无交易数据，不进行交易\n",
      "settle\n",
      "2021-01-03 00:00:00 False\n",
      "当日无交易数据，不进行交易\n",
      "HK当日无交易数据，不进行交易\n",
      "settle\n",
      "2021-01-04 00:00:00 True\n",
      "settle\n",
      "2021-01-05 00:00:00 True\n",
      "settle\n",
      "2021-01-06 00:00:00 True\n",
      "settle\n",
      "2021-01-07 00:00:00 True\n",
      "settle\n",
      "2021-01-08 00:00:00 True\n",
      "settle\n",
      "2021-01-09 00:00:00 False\n",
      "当日无交易数据，不进行交易\n",
      "HK当日无交易数据，不进行交易\n",
      "settle\n"
     ]
    }
   ],
   "source": [
    "for i in pd.date_range('2021-01-01','2021-01-09').to_list():\n",
    "#     print(i.strftime('%Y-%m-%d'))\n",
    "    day=i.strftime('%Y-%m-%d')\n",
    "    print(i,qa.QA_util_if_trade(day))\n",
    "    try:\n",
    "        my.on_price_change('002027',quote.loc[day]['close'],datetime=day)\n",
    "    except Exception as e:\n",
    "        print('当日无交易数据，不进行交易')\n",
    "    try:\n",
    "        my.on_price_change('00700',hk_q.loc[day]['close'],datetime=day)\n",
    "    except Exception as e:\n",
    "        print('HK当日无交易数据，不进行交易')\n",
    "    my.settle()"
   ]
  },
  {
   "cell_type": "code",
   "execution_count": 30,
   "metadata": {},
   "outputs": [
    {
     "data": {
      "text/plain": [
       "\u001b[1;31mSignature:\u001b[0m\n",
       "\u001b[0mpd\u001b[0m\u001b[1;33m.\u001b[0m\u001b[0mdate_range\u001b[0m\u001b[1;33m(\u001b[0m\u001b[1;33m\n",
       "\u001b[0m    \u001b[1;33m[\u001b[0m\u001b[1;34m'start=None'\u001b[0m\u001b[1;33m,\u001b[0m \u001b[1;34m'end=None'\u001b[0m\u001b[1;33m,\u001b[0m \u001b[1;34m'periods=None'\u001b[0m\u001b[1;33m,\u001b[0m \u001b[1;34m'freq=None'\u001b[0m\u001b[1;33m,\u001b[0m \u001b[1;34m'tz=None'\u001b[0m\u001b[1;33m,\u001b[0m \u001b[1;34m'normalize=False'\u001b[0m\u001b[1;33m,\u001b[0m \u001b[1;34m'name=None'\u001b[0m\u001b[1;33m,\u001b[0m \u001b[1;34m'closed=None'\u001b[0m\u001b[1;33m,\u001b[0m \u001b[1;34m'**kwargs'\u001b[0m\u001b[1;33m]\u001b[0m\u001b[1;33m,\u001b[0m\u001b[1;33m\n",
       "\u001b[0m\u001b[1;33m)\u001b[0m \u001b[1;33m->\u001b[0m \u001b[0mpandas\u001b[0m\u001b[1;33m.\u001b[0m\u001b[0mcore\u001b[0m\u001b[1;33m.\u001b[0m\u001b[0mindexes\u001b[0m\u001b[1;33m.\u001b[0m\u001b[0mdatetimes\u001b[0m\u001b[1;33m.\u001b[0m\u001b[0mDatetimeIndex\u001b[0m\u001b[1;33m\u001b[0m\u001b[0m\n",
       "\u001b[1;31mDocstring:\u001b[0m\n",
       "Return a fixed frequency DatetimeIndex.\n",
       "\n",
       "Parameters\n",
       "----------\n",
       "start : str or datetime-like, optional\n",
       "    Left bound for generating dates.\n",
       "end : str or datetime-like, optional\n",
       "    Right bound for generating dates.\n",
       "periods : int, optional\n",
       "    Number of periods to generate.\n",
       "freq : str or DateOffset, default 'D'\n",
       "    Frequency strings can have multiples, e.g. '5H'. See\n",
       "    :ref:`here <timeseries.offset_aliases>` for a list of\n",
       "    frequency aliases.\n",
       "tz : str or tzinfo, optional\n",
       "    Time zone name for returning localized DatetimeIndex, for example\n",
       "    'Asia/Hong_Kong'. By default, the resulting DatetimeIndex is\n",
       "    timezone-naive.\n",
       "normalize : bool, default False\n",
       "    Normalize start/end dates to midnight before generating date range.\n",
       "name : str, default None\n",
       "    Name of the resulting DatetimeIndex.\n",
       "closed : {None, 'left', 'right'}, optional\n",
       "    Make the interval closed with respect to the given frequency to\n",
       "    the 'left', 'right', or both sides (None, the default).\n",
       "**kwargs\n",
       "    For compatibility. Has no effect on the result.\n",
       "\n",
       "Returns\n",
       "-------\n",
       "rng : DatetimeIndex\n",
       "\n",
       "See Also\n",
       "--------\n",
       "DatetimeIndex : An immutable container for datetimes.\n",
       "timedelta_range : Return a fixed frequency TimedeltaIndex.\n",
       "period_range : Return a fixed frequency PeriodIndex.\n",
       "interval_range : Return a fixed frequency IntervalIndex.\n",
       "\n",
       "Notes\n",
       "-----\n",
       "Of the four parameters ``start``, ``end``, ``periods``, and ``freq``,\n",
       "exactly three must be specified. If ``freq`` is omitted, the resulting\n",
       "``DatetimeIndex`` will have ``periods`` linearly spaced elements between\n",
       "``start`` and ``end`` (closed on both sides).\n",
       "\n",
       "To learn more about the frequency strings, please see `this link\n",
       "<https://pandas.pydata.org/pandas-docs/stable/user_guide/timeseries.html#offset-aliases>`__.\n",
       "\n",
       "Examples\n",
       "--------\n",
       "**Specifying the values**\n",
       "\n",
       "The next four examples generate the same `DatetimeIndex`, but vary\n",
       "the combination of `start`, `end` and `periods`.\n",
       "\n",
       "Specify `start` and `end`, with the default daily frequency.\n",
       "\n",
       ">>> pd.date_range(start='1/1/2018', end='1/08/2018')\n",
       "DatetimeIndex(['2018-01-01', '2018-01-02', '2018-01-03', '2018-01-04',\n",
       "               '2018-01-05', '2018-01-06', '2018-01-07', '2018-01-08'],\n",
       "              dtype='datetime64[ns]', freq='D')\n",
       "\n",
       "Specify `start` and `periods`, the number of periods (days).\n",
       "\n",
       ">>> pd.date_range(start='1/1/2018', periods=8)\n",
       "DatetimeIndex(['2018-01-01', '2018-01-02', '2018-01-03', '2018-01-04',\n",
       "               '2018-01-05', '2018-01-06', '2018-01-07', '2018-01-08'],\n",
       "              dtype='datetime64[ns]', freq='D')\n",
       "\n",
       "Specify `end` and `periods`, the number of periods (days).\n",
       "\n",
       ">>> pd.date_range(end='1/1/2018', periods=8)\n",
       "DatetimeIndex(['2017-12-25', '2017-12-26', '2017-12-27', '2017-12-28',\n",
       "               '2017-12-29', '2017-12-30', '2017-12-31', '2018-01-01'],\n",
       "              dtype='datetime64[ns]', freq='D')\n",
       "\n",
       "Specify `start`, `end`, and `periods`; the frequency is generated\n",
       "automatically (linearly spaced).\n",
       "\n",
       ">>> pd.date_range(start='2018-04-24', end='2018-04-27', periods=3)\n",
       "DatetimeIndex(['2018-04-24 00:00:00', '2018-04-25 12:00:00',\n",
       "               '2018-04-27 00:00:00'],\n",
       "              dtype='datetime64[ns]', freq=None)\n",
       "\n",
       "**Other Parameters**\n",
       "\n",
       "Changed the `freq` (frequency) to ``'M'`` (month end frequency).\n",
       "\n",
       ">>> pd.date_range(start='1/1/2018', periods=5, freq='M')\n",
       "DatetimeIndex(['2018-01-31', '2018-02-28', '2018-03-31', '2018-04-30',\n",
       "               '2018-05-31'],\n",
       "              dtype='datetime64[ns]', freq='M')\n",
       "\n",
       "Multiples are allowed\n",
       "\n",
       ">>> pd.date_range(start='1/1/2018', periods=5, freq='3M')\n",
       "DatetimeIndex(['2018-01-31', '2018-04-30', '2018-07-31', '2018-10-31',\n",
       "               '2019-01-31'],\n",
       "              dtype='datetime64[ns]', freq='3M')\n",
       "\n",
       "`freq` can also be specified as an Offset object.\n",
       "\n",
       ">>> pd.date_range(start='1/1/2018', periods=5, freq=pd.offsets.MonthEnd(3))\n",
       "DatetimeIndex(['2018-01-31', '2018-04-30', '2018-07-31', '2018-10-31',\n",
       "               '2019-01-31'],\n",
       "              dtype='datetime64[ns]', freq='3M')\n",
       "\n",
       "Specify `tz` to set the timezone.\n",
       "\n",
       ">>> pd.date_range(start='1/1/2018', periods=5, tz='Asia/Tokyo')\n",
       "DatetimeIndex(['2018-01-01 00:00:00+09:00', '2018-01-02 00:00:00+09:00',\n",
       "               '2018-01-03 00:00:00+09:00', '2018-01-04 00:00:00+09:00',\n",
       "               '2018-01-05 00:00:00+09:00'],\n",
       "              dtype='datetime64[ns, Asia/Tokyo]', freq='D')\n",
       "\n",
       "`closed` controls whether to include `start` and `end` that are on the\n",
       "boundary. The default includes boundary points on either end.\n",
       "\n",
       ">>> pd.date_range(start='2017-01-01', end='2017-01-04', closed=None)\n",
       "DatetimeIndex(['2017-01-01', '2017-01-02', '2017-01-03', '2017-01-04'],\n",
       "              dtype='datetime64[ns]', freq='D')\n",
       "\n",
       "Use ``closed='left'`` to exclude `end` if it falls on the boundary.\n",
       "\n",
       ">>> pd.date_range(start='2017-01-01', end='2017-01-04', closed='left')\n",
       "DatetimeIndex(['2017-01-01', '2017-01-02', '2017-01-03'],\n",
       "              dtype='datetime64[ns]', freq='D')\n",
       "\n",
       "Use ``closed='right'`` to exclude `start` if it falls on the boundary.\n",
       "\n",
       ">>> pd.date_range(start='2017-01-01', end='2017-01-04', closed='right')\n",
       "DatetimeIndex(['2017-01-02', '2017-01-03', '2017-01-04'],\n",
       "              dtype='datetime64[ns]', freq='D')\n",
       "\u001b[1;31mFile:\u001b[0m      d:\\workspace\\quant\\quantaxis\\venv\\lib\\site-packages\\pandas\\core\\indexes\\datetimes.py\n",
       "\u001b[1;31mType:\u001b[0m      function\n"
      ]
     },
     "metadata": {},
     "output_type": "display_data"
    }
   ],
   "source": [
    "pd.date_range?"
   ]
  },
  {
   "cell_type": "code",
   "execution_count": null,
   "metadata": {},
   "outputs": [],
   "source": []
  },
  {
   "cell_type": "code",
   "execution_count": null,
   "metadata": {},
   "outputs": [],
   "source": []
  },
  {
   "cell_type": "code",
   "execution_count": null,
   "metadata": {},
   "outputs": [],
   "source": []
  }
 ],
 "metadata": {
  "kernelspec": {
   "display_name": "Python 3",
   "language": "python",
   "name": "python3"
  },
  "language_info": {
   "codemirror_mode": {
    "name": "ipython",
    "version": 3
   },
   "file_extension": ".py",
   "mimetype": "text/x-python",
   "name": "python",
   "nbconvert_exporter": "python",
   "pygments_lexer": "ipython3",
   "version": "3.6.5"
  }
 },
 "nbformat": 4,
 "nbformat_minor": 4
}
