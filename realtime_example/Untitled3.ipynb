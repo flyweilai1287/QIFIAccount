{
 "cells": [
  {
   "cell_type": "code",
   "execution_count": 1,
   "metadata": {},
   "outputs": [
    {
     "name": "stdout",
     "output_type": "stream",
     "text": [
      "提示：当前环境 pandas 版本高于 0.25，get_price 与 get_fundamentals_continuously 接口 panel 参数将固定为 False\n",
      "注意：0.25 以上版本 pandas 不支持 panel，如使用该数据结构和相关函数请注意修改\n"
     ]
    }
   ],
   "source": [
    "import QUANTAXIS as qa\n",
    "from QIFIAccount import QIFI_Account,QA_Position\n",
    "from QIFIAccount.QASimAccount import QIFI_SIM_Account\n",
    "import pandas as pd"
   ]
  },
  {
   "cell_type": "code",
   "execution_count": 2,
   "metadata": {},
   "outputs": [
    {
     "name": "stdout",
     "output_type": "stream",
     "text": [
      "settle\n"
     ]
    }
   ],
   "source": [
    "my=QIFI_SIM_Account(username='myacc29',password='myacc29')\n",
    "my.initial()"
   ]
  },
  {
   "cell_type": "code",
   "execution_count": 3,
   "metadata": {},
   "outputs": [],
   "source": [
    "my.ask_deposit(400000)"
   ]
  },
  {
   "cell_type": "code",
   "execution_count": 4,
   "metadata": {},
   "outputs": [
    {
     "name": "stdout",
     "output_type": "stream",
     "text": [
      "settle\n"
     ]
    }
   ],
   "source": [
    "my.settle()"
   ]
  },
  {
   "cell_type": "code",
   "execution_count": 5,
   "metadata": {},
   "outputs": [
    {
     "data": {
      "text/plain": [
       "0"
      ]
     },
     "execution_count": 5,
     "metadata": {},
     "output_type": "execute_result"
    }
   ],
   "source": [
    "code='002027'\n",
    "name='分众传媒'\n",
    "pos=QA_Position(\n",
    "        code=code,\n",
    "        account_cookie='myacc9',\n",
    "        market_type=qa.MARKET_TYPE.STOCK_CN,\n",
    "        exchange_id=qa.EXCHANGE_ID.SZSE if code in (0,3) else qa.EXCHANGE_ID.SSE,\n",
    "        volume_long_his=2000,\n",
    "        volume_long_today=0,\n",
    "        open_price_long=9,\n",
    "        name=name\n",
    "    )\n",
    "my.add_position(pos)"
   ]
  },
  {
   "cell_type": "code",
   "execution_count": 6,
   "metadata": {},
   "outputs": [
    {
     "data": {
      "text/plain": [
       "0"
      ]
     },
     "execution_count": 6,
     "metadata": {},
     "output_type": "execute_result"
    }
   ],
   "source": [
    "code='601166'\n",
    "name='兴业银行'\n",
    "pos=QA_Position(\n",
    "        code=code,\n",
    "        account_cookie='myacc9',\n",
    "        market_type=qa.MARKET_TYPE.STOCK_CN,\n",
    "        exchange_id=qa.EXCHANGE_ID.SZSE if code in (0,3) else qa.EXCHANGE_ID.SSE,\n",
    "        volume_long_his=20000,\n",
    "        volume_long_today=0,\n",
    "        open_price_long=9,\n",
    "        name=name\n",
    "    )\n",
    "my.add_position(pos)"
   ]
  },
  {
   "cell_type": "code",
   "execution_count": 7,
   "metadata": {},
   "outputs": [
    {
     "name": "stdout",
     "output_type": "stream",
     "text": [
      "{'code': '601166', 'instrument_id': '601166', 'user_id': 'myacc9', 'portfolio_cookie': 'portfolio', 'username': 'quantaxis', 'position_id': '2378d643-d838-4d54-9380-822149b72b15', 'account_cookie': 'myacc9', 'frozen': {}, 'name': '兴业银行', 'spms_id': None, 'oms_id': None, 'market_type': 'stock_cn', 'exchange_id': 'sse', 'moneypreset': 100000, 'moneypresetLeft': 100000, 'lastupdatetime': '', 'volume_long_today': 0, 'volume_long_his': 20000, 'volume_long': 20000, 'volume_long_yd': 0, 'volume_short_yd': 0, 'volume_short_today': 0, 'volume_short_his': 0, 'volume_short': 0, 'pos_long_his': 20000, 'pos_long_today': 0, 'pos_short_his': 0, 'pos_short_today': 0, 'volume_long_frozen_today': 0, 'volume_long_frozen_his': 0, 'volume_long_frozen': 0, 'volume_short_frozen_today': 0, 'volume_short_frozen_his': 0, 'volume_short_frozen': 0, 'margin_long': 0, 'margin_short': 0, 'margin': 0, 'position_price_long': 9, 'position_cost_long': 180000.0, 'position_price_short': 0, 'position_cost_short': 0.0, 'open_price_long': 9, 'open_cost_long': 180000.0, 'open_price_short': 0, 'open_cost_short': 0.0, 'trades': [], 'orders': {}}\n"
     ]
    }
   ],
   "source": [
    "pos.save()"
   ]
  },
  {
   "cell_type": "code",
   "execution_count": 8,
   "metadata": {},
   "outputs": [
    {
     "name": "stdout",
     "output_type": "stream",
     "text": [
      "{'volume_long': 2000, 'volume_short': 0, 'volume_long_frozen': 0, 'volume_short_frozen': 0}\n",
      "{'volume_long': 2000, 'volume_short': 0}\n",
      "order check success\n",
      "下单成功 fa451a19-684b-42bb-9aee-3ee8a4459530\n",
      "全部成交 fa451a19-684b-42bb-9aee-3ee8a4459530\n",
      "update trade\n"
     ]
    }
   ],
   "source": [
    "order = my.send_order('002027', 1000, 5.08, qa.ORDER_DIRECTION.BUY, datetime='2021-03-31 10:33:00')\n",
    "my.make_deal(order)"
   ]
  },
  {
   "cell_type": "code",
   "execution_count": null,
   "metadata": {},
   "outputs": [],
   "source": []
  }
 ],
 "metadata": {
  "kernelspec": {
   "display_name": "Python 3",
   "language": "python",
   "name": "python3"
  },
  "language_info": {
   "codemirror_mode": {
    "name": "ipython",
    "version": 3
   },
   "file_extension": ".py",
   "mimetype": "text/x-python",
   "name": "python",
   "nbconvert_exporter": "python",
   "pygments_lexer": "ipython3",
   "version": "3.6.5"
  }
 },
 "nbformat": 4,
 "nbformat_minor": 4
}
