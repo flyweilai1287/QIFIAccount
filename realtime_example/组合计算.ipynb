{
 "cells": [
  {
   "cell_type": "code",
   "execution_count": 1,
   "metadata": {},
   "outputs": [
    {
     "name": "stdout",
     "output_type": "stream",
     "text": [
      "提示：当前环境 pandas 版本高于 0.25，get_price 与 get_fundamentals_continuously 接口 panel 参数将固定为 False\n",
      "注意：0.25 以上版本 pandas 不支持 panel，如使用该数据结构和相关函数请注意修改\n"
     ]
    }
   ],
   "source": [
    "import QUANTAXIS as qa\n",
    "from QIFIAccount import QIFI_Account,QA_Position\n",
    "from QIFIAccount.QASimAccount import QIFI_SIM_Account\n",
    "import pandas as pd"
   ]
  },
  {
   "cell_type": "code",
   "execution_count": 9,
   "metadata": {},
   "outputs": [
    {
     "name": "stdout",
     "output_type": "stream",
     "text": [
      "Create new Account\n"
     ]
    }
   ],
   "source": [
    "username='myacc18'\n",
    "my=QIFI_SIM_Account(username=username,password=username)\n",
    "my.initial()"
   ]
  },
  {
   "cell_type": "code",
   "execution_count": 10,
   "metadata": {},
   "outputs": [],
   "source": [
    "df=pd.read_excel(\"E:\\\\leo\\\\投资\\\\2021\\\\股票持仓分析20210622-快照20210622.xlsx\",sheet_name=\"持仓明细详情\",header=2)\n",
    "df=df[df['pos_num']>0]\n",
    "code_cn_list=list(x.split(\".\")[0] for x in df.code[df['currency']=='CNY'].unique().tolist())\n",
    "code_cn_list\n",
    "code_hk_list=list(x.split(\".\")[0] for x in df.code[df['currency']=='HK'].unique().tolist())\n",
    "code_hk_list=[i.rjust(5,'0') if len(i)==4  else i for i in code_hk_list]"
   ]
  },
  {
   "cell_type": "code",
   "execution_count": 11,
   "metadata": {},
   "outputs": [],
   "source": [
    "def s(x):\n",
    "    print(type(x['code']),x['code'].split('.'))\n",
    "def add_position(stock):\n",
    "    code=stock['code'].split('.')\n",
    "    flag=False\n",
    "#     print(code[0],stock['currency'],stock['code'][0])\n",
    "    if len(code[0])==6 and stock['currency']=='CNY':\n",
    "        code=code[0]\n",
    "        market_type=qa.MARKET_TYPE.STOCK_CN\n",
    "        exchange_id=qa.EXCHANGE_ID.SZSE if code[0] in ('0','3') else qa.EXCHANGE_ID.SSE\n",
    "        flag=True\n",
    "    elif len(code[0])==6:\n",
    "        code=code[0]\n",
    "        market_type='stock_cn_b'\n",
    "        exchange_id=qa.EXCHANGE_ID.SZSE\n",
    "        flag=False\n",
    "    else:\n",
    "        code=str(code[0]).rjust(5,'0')\n",
    "        market_type='stock_hk'\n",
    "        exchange_id='hk'\n",
    "        flag=False\n",
    "    if flag==True:\n",
    "        pos=QA_Position(\n",
    "                code=code,\n",
    "                account_cookie='myacc17',\n",
    "                market_type=market_type,\n",
    "                exchange_id=exchange_id,\n",
    "                volume_long_his=stock['pos_num'],\n",
    "                volume_long_today=0,\n",
    "                open_price_long=stock['cost'],\n",
    "                name=stock['name'])\n",
    "        my.add_position(pos)"
   ]
  },
  {
   "cell_type": "code",
   "execution_count": 12,
   "metadata": {},
   "outputs": [
    {
     "data": {
      "text/plain": [
       "0     None\n",
       "1     None\n",
       "2     None\n",
       "3     None\n",
       "4     None\n",
       "5     None\n",
       "6     None\n",
       "7     None\n",
       "8     None\n",
       "9     None\n",
       "10    None\n",
       "11    None\n",
       "12    None\n",
       "13    None\n",
       "14    None\n",
       "15    None\n",
       "16    None\n",
       "17    None\n",
       "18    None\n",
       "dtype: object"
      ]
     },
     "execution_count": 12,
     "metadata": {},
     "output_type": "execute_result"
    }
   ],
   "source": [
    "df.groupby('code').agg({'pos_num':'sum','cost':'mean','name':'first','currency':'first'}).reset_index().apply(lambda x:add_position(x),axis=1)"
   ]
  },
  {
   "cell_type": "code",
   "execution_count": 14,
   "metadata": {},
   "outputs": [
    {
     "data": {
      "text/plain": [
       "dict_keys(['stock_cn.000333', 'stock_cn.000961', 'stock_cn.002027', 'stock_cn.002353', 'stock_cn.160631', 'stock_cn.502020', 'stock_cn.600036', 'stock_cn.600516', 'stock_cn.600985', 'stock_cn.601166', 'stock_cn.601225', 'stock_cn.601318', 'stock_cn.601939'])"
      ]
     },
     "execution_count": 14,
     "metadata": {},
     "output_type": "execute_result"
    }
   ],
   "source": [
    "my.positions.keys()"
   ]
  },
  {
   "cell_type": "code",
   "execution_count": 32,
   "metadata": {},
   "outputs": [],
   "source": [
    "day='2021-06-25'\n",
    "for code in code_cn_list:\n",
    "    price=qa.QA_fetch_get_stock_day('tdx',code,day,day)\n",
    "    price.apply(lambda x:my.on_price_change(code,x.close,datetime=x.date),axis=1)\n",
    "# for code in code_hk_list:\n",
    "#     price=qa.QA_fetch_get_hkstock_day('tdx',code,day,day) if len(code)==5 else qa.QA_fetch_get_stock_day('tdx',code,day,day)\n",
    "#     price.apply(lambda x:my.on_price_change(code,x.close*0.8244,datetime=x.date),axis=1)"
   ]
  },
  {
   "cell_type": "code",
   "execution_count": 48,
   "metadata": {},
   "outputs": [
    {
     "data": {
      "text/plain": [
       "2841682.302"
      ]
     },
     "execution_count": 48,
     "metadata": {},
     "output_type": "execute_result"
    }
   ],
   "source": [
    "my.balance"
   ]
  },
  {
   "cell_type": "code",
   "execution_count": 51,
   "metadata": {},
   "outputs": [],
   "source": [
    "my.ask_withdraw(1000000)"
   ]
  },
  {
   "cell_type": "code",
   "execution_count": 55,
   "metadata": {},
   "outputs": [
    {
     "data": {
      "text/plain": [
       "2496987.6763333334"
      ]
     },
     "execution_count": 55,
     "metadata": {},
     "output_type": "execute_result"
    }
   ],
   "source": [
    "my.money"
   ]
  },
  {
   "cell_type": "code",
   "execution_count": null,
   "metadata": {},
   "outputs": [],
   "source": [
    "my."
   ]
  },
  {
   "cell_type": "code",
   "execution_count": 47,
   "metadata": {},
   "outputs": [
    {
     "name": "stdout",
     "output_type": "stream",
     "text": [
      "settle\n"
     ]
    }
   ],
   "source": [
    "my.settle()"
   ]
  },
  {
   "cell_type": "code",
   "execution_count": 49,
   "metadata": {},
   "outputs": [
    {
     "data": {
      "text/plain": [
       "344694.62566666666"
      ]
     },
     "execution_count": 49,
     "metadata": {},
     "output_type": "execute_result"
    }
   ],
   "source": [
    "my.float_profit"
   ]
  },
  {
   "cell_type": "code",
   "execution_count": 36,
   "metadata": {},
   "outputs": [
    {
     "data": {
      "text/plain": [
       "0"
      ]
     },
     "execution_count": 36,
     "metadata": {},
     "output_type": "execute_result"
    }
   ],
   "source": [
    "my.close_profit"
   ]
  },
  {
   "cell_type": "code",
   "execution_count": 41,
   "metadata": {},
   "outputs": [
    {
     "data": {
      "text/plain": [
       "344694.6256666668"
      ]
     },
     "execution_count": 41,
     "metadata": {},
     "output_type": "execute_result"
    }
   ],
   "source": [
    "my.balance-my.pre_balance"
   ]
  },
  {
   "cell_type": "code",
   "execution_count": 40,
   "metadata": {},
   "outputs": [
    {
     "data": {
      "text/plain": [
       "344694.62566666666"
      ]
     },
     "execution_count": 40,
     "metadata": {},
     "output_type": "execute_result"
    }
   ],
   "source": [
    "my.position_profit"
   ]
  },
  {
   "cell_type": "code",
   "execution_count": 50,
   "metadata": {},
   "outputs": [
    {
     "data": {
      "text/plain": [
       "1841682.302"
      ]
     },
     "execution_count": 50,
     "metadata": {},
     "output_type": "execute_result"
    }
   ],
   "source": [
    "df1[~(df1['exchange_id']=='hk')]['balance'].sum()"
   ]
  },
  {
   "cell_type": "code",
   "execution_count": 17,
   "metadata": {},
   "outputs": [
    {
     "data": {
      "text/html": [
       "<div>\n",
       "<style scoped>\n",
       "    .dataframe tbody tr th:only-of-type {\n",
       "        vertical-align: middle;\n",
       "    }\n",
       "\n",
       "    .dataframe tbody tr th {\n",
       "        vertical-align: top;\n",
       "    }\n",
       "\n",
       "    .dataframe thead th {\n",
       "        text-align: right;\n",
       "    }\n",
       "</style>\n",
       "<table border=\"1\" class=\"dataframe\">\n",
       "  <thead>\n",
       "    <tr style=\"text-align: right;\">\n",
       "      <th></th>\n",
       "      <th>code</th>\n",
       "      <th>name</th>\n",
       "      <th>exchange_id</th>\n",
       "      <th>volume_long_his</th>\n",
       "      <th>pos_long_his</th>\n",
       "      <th>open_price_long</th>\n",
       "      <th>last_price</th>\n",
       "      <th>position_profit</th>\n",
       "      <th>position_cost_long</th>\n",
       "      <th>balance</th>\n",
       "    </tr>\n",
       "  </thead>\n",
       "  <tbody>\n",
       "    <tr>\n",
       "      <th>stock_cn.000333</th>\n",
       "      <td>000333</td>\n",
       "      <td>美的集团</td>\n",
       "      <td>szse</td>\n",
       "      <td>374</td>\n",
       "      <td>374</td>\n",
       "      <td>51.69</td>\n",
       "      <td>73.17</td>\n",
       "      <td>8033.52</td>\n",
       "      <td>19332.1</td>\n",
       "      <td>27365.6</td>\n",
       "    </tr>\n",
       "    <tr>\n",
       "      <th>stock_cn.000961</th>\n",
       "      <td>000961</td>\n",
       "      <td>中南建设</td>\n",
       "      <td>szse</td>\n",
       "      <td>14800</td>\n",
       "      <td>14800</td>\n",
       "      <td>7.15</td>\n",
       "      <td>6</td>\n",
       "      <td>-17020</td>\n",
       "      <td>105820</td>\n",
       "      <td>88800</td>\n",
       "    </tr>\n",
       "    <tr>\n",
       "      <th>stock_cn.002027</th>\n",
       "      <td>002027</td>\n",
       "      <td>分众传媒</td>\n",
       "      <td>szse</td>\n",
       "      <td>20200</td>\n",
       "      <td>20200</td>\n",
       "      <td>7.392</td>\n",
       "      <td>9.15</td>\n",
       "      <td>35511.6</td>\n",
       "      <td>149318</td>\n",
       "      <td>184830</td>\n",
       "    </tr>\n",
       "    <tr>\n",
       "      <th>stock_cn.002353</th>\n",
       "      <td>002353</td>\n",
       "      <td>杰瑞股份</td>\n",
       "      <td>szse</td>\n",
       "      <td>300</td>\n",
       "      <td>300</td>\n",
       "      <td>32.265</td>\n",
       "      <td>45.26</td>\n",
       "      <td>3898.5</td>\n",
       "      <td>9679.5</td>\n",
       "      <td>13578</td>\n",
       "    </tr>\n",
       "    <tr>\n",
       "      <th>stock_cn.160631</th>\n",
       "      <td>160631</td>\n",
       "      <td>银行指基</td>\n",
       "      <td>sse</td>\n",
       "      <td>2447</td>\n",
       "      <td>2447</td>\n",
       "      <td>1</td>\n",
       "      <td>1.046</td>\n",
       "      <td>112.562</td>\n",
       "      <td>2447</td>\n",
       "      <td>2559.56</td>\n",
       "    </tr>\n",
       "    <tr>\n",
       "      <th>stock_cn.502020</th>\n",
       "      <td>502020</td>\n",
       "      <td>上证50增强LOF</td>\n",
       "      <td>sse</td>\n",
       "      <td>720</td>\n",
       "      <td>720</td>\n",
       "      <td>1.373</td>\n",
       "      <td>1.28</td>\n",
       "      <td>-66.96</td>\n",
       "      <td>988.56</td>\n",
       "      <td>921.6</td>\n",
       "    </tr>\n",
       "    <tr>\n",
       "      <th>stock_cn.600036</th>\n",
       "      <td>600036</td>\n",
       "      <td>招商银行</td>\n",
       "      <td>sse</td>\n",
       "      <td>3500</td>\n",
       "      <td>3500</td>\n",
       "      <td>42.5427</td>\n",
       "      <td>56.4</td>\n",
       "      <td>48500.7</td>\n",
       "      <td>148899</td>\n",
       "      <td>197400</td>\n",
       "    </tr>\n",
       "    <tr>\n",
       "      <th>stock_cn.600516</th>\n",
       "      <td>600516</td>\n",
       "      <td>方大炭素</td>\n",
       "      <td>sse</td>\n",
       "      <td>1043</td>\n",
       "      <td>1043</td>\n",
       "      <td>12.721</td>\n",
       "      <td>7.84</td>\n",
       "      <td>-5090.88</td>\n",
       "      <td>13268</td>\n",
       "      <td>8177.12</td>\n",
       "    </tr>\n",
       "    <tr>\n",
       "      <th>stock_cn.600985</th>\n",
       "      <td>600985</td>\n",
       "      <td>淮北矿业</td>\n",
       "      <td>sse</td>\n",
       "      <td>16024</td>\n",
       "      <td>16024</td>\n",
       "      <td>11.105</td>\n",
       "      <td>13.56</td>\n",
       "      <td>39338.9</td>\n",
       "      <td>177947</td>\n",
       "      <td>217285</td>\n",
       "    </tr>\n",
       "    <tr>\n",
       "      <th>stock_cn.601166</th>\n",
       "      <td>601166</td>\n",
       "      <td>兴业银行</td>\n",
       "      <td>sse</td>\n",
       "      <td>39700</td>\n",
       "      <td>39700</td>\n",
       "      <td>16.337</td>\n",
       "      <td>20.72</td>\n",
       "      <td>174005</td>\n",
       "      <td>648579</td>\n",
       "      <td>822584</td>\n",
       "    </tr>\n",
       "    <tr>\n",
       "      <th>stock_cn.601225</th>\n",
       "      <td>601225</td>\n",
       "      <td>陕西煤业</td>\n",
       "      <td>sse</td>\n",
       "      <td>15500</td>\n",
       "      <td>15500</td>\n",
       "      <td>8.877</td>\n",
       "      <td>12.51</td>\n",
       "      <td>56311.5</td>\n",
       "      <td>137593</td>\n",
       "      <td>193905</td>\n",
       "    </tr>\n",
       "    <tr>\n",
       "      <th>stock_cn.601318</th>\n",
       "      <td>601318</td>\n",
       "      <td>中国平安</td>\n",
       "      <td>sse</td>\n",
       "      <td>900</td>\n",
       "      <td>900</td>\n",
       "      <td>65.111</td>\n",
       "      <td>66.68</td>\n",
       "      <td>1412.1</td>\n",
       "      <td>58599.9</td>\n",
       "      <td>60012</td>\n",
       "    </tr>\n",
       "    <tr>\n",
       "      <th>stock_cn.601939</th>\n",
       "      <td>601939</td>\n",
       "      <td>建设银行</td>\n",
       "      <td>sse</td>\n",
       "      <td>3600</td>\n",
       "      <td>3600</td>\n",
       "      <td>6.81</td>\n",
       "      <td>6.74</td>\n",
       "      <td>-252</td>\n",
       "      <td>24516</td>\n",
       "      <td>24264</td>\n",
       "    </tr>\n",
       "  </tbody>\n",
       "</table>\n",
       "</div>"
      ],
      "text/plain": [
       "                   code       name exchange_id volume_long_his pos_long_his  \\\n",
       "stock_cn.000333  000333       美的集团        szse             374          374   \n",
       "stock_cn.000961  000961       中南建设        szse           14800        14800   \n",
       "stock_cn.002027  002027       分众传媒        szse           20200        20200   \n",
       "stock_cn.002353  002353       杰瑞股份        szse             300          300   \n",
       "stock_cn.160631  160631       银行指基         sse            2447         2447   \n",
       "stock_cn.502020  502020  上证50增强LOF         sse             720          720   \n",
       "stock_cn.600036  600036       招商银行         sse            3500         3500   \n",
       "stock_cn.600516  600516       方大炭素         sse            1043         1043   \n",
       "stock_cn.600985  600985       淮北矿业         sse           16024        16024   \n",
       "stock_cn.601166  601166       兴业银行         sse           39700        39700   \n",
       "stock_cn.601225  601225       陕西煤业         sse           15500        15500   \n",
       "stock_cn.601318  601318       中国平安         sse             900          900   \n",
       "stock_cn.601939  601939       建设银行         sse            3600         3600   \n",
       "\n",
       "                open_price_long last_price position_profit position_cost_long  \\\n",
       "stock_cn.000333           51.69      73.17         8033.52            19332.1   \n",
       "stock_cn.000961            7.15          6          -17020             105820   \n",
       "stock_cn.002027           7.392       9.15         35511.6             149318   \n",
       "stock_cn.002353          32.265      45.26          3898.5             9679.5   \n",
       "stock_cn.160631               1      1.046         112.562               2447   \n",
       "stock_cn.502020           1.373       1.28          -66.96             988.56   \n",
       "stock_cn.600036         42.5427       56.4         48500.7             148899   \n",
       "stock_cn.600516          12.721       7.84        -5090.88              13268   \n",
       "stock_cn.600985          11.105      13.56         39338.9             177947   \n",
       "stock_cn.601166          16.337      20.72          174005             648579   \n",
       "stock_cn.601225           8.877      12.51         56311.5             137593   \n",
       "stock_cn.601318          65.111      66.68          1412.1            58599.9   \n",
       "stock_cn.601939            6.81       6.74            -252              24516   \n",
       "\n",
       "                 balance  \n",
       "stock_cn.000333  27365.6  \n",
       "stock_cn.000961    88800  \n",
       "stock_cn.002027   184830  \n",
       "stock_cn.002353    13578  \n",
       "stock_cn.160631  2559.56  \n",
       "stock_cn.502020    921.6  \n",
       "stock_cn.600036   197400  \n",
       "stock_cn.600516  8177.12  \n",
       "stock_cn.600985   217285  \n",
       "stock_cn.601166   822584  \n",
       "stock_cn.601225   193905  \n",
       "stock_cn.601318    60012  \n",
       "stock_cn.601939    24264  "
      ]
     },
     "execution_count": 17,
     "metadata": {},
     "output_type": "execute_result"
    }
   ],
   "source": [
    "df=pd.DataFrame(my.position_msg).T\n",
    "df1=df[['code','name','exchange_id','volume_long_his','pos_long_his','open_price_long','last_price','position_profit','position_cost_long']].assign(balance=df['last_price']*df['pos_long_his'])\n",
    "df1\n",
    "\n"
   ]
  },
  {
   "cell_type": "code",
   "execution_count": null,
   "metadata": {},
   "outputs": [],
   "source": []
  }
 ],
 "metadata": {
  "kernelspec": {
   "display_name": "Python 3",
   "language": "python",
   "name": "python3"
  },
  "language_info": {
   "codemirror_mode": {
    "name": "ipython",
    "version": 3
   },
   "file_extension": ".py",
   "mimetype": "text/x-python",
   "name": "python",
   "nbconvert_exporter": "python",
   "pygments_lexer": "ipython3",
   "version": "3.6.5"
  }
 },
 "nbformat": 4,
 "nbformat_minor": 4
}
